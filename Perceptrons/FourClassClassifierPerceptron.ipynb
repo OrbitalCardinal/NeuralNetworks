{
 "cells": [
  {
   "cell_type": "markdown",
   "metadata": {},
   "source": [
    "# Four-class desicion problem"
   ]
  },
  {
   "cell_type": "markdown",
   "metadata": {},
   "source": [
    "This is a python implementation of the **multi-neuron perceptron** network exercise exposed in the book **Neural Network Design** written by **Martin Hagan**."
   ]
  },
  {
   "cell_type": "markdown",
   "metadata": {},
   "source": [
    "Given the following target vectors:"
   ]
  },
  {
   "cell_type": "markdown",
   "metadata": {},
   "source": [
    "\\begin{equation}\n",
    "    \\Bigg\\{\n",
    "    p_1 =\n",
    "    \\begin{bmatrix}\n",
    "         0 \\\\ \n",
    "         0\n",
    "    \\end{bmatrix},\n",
    "    t_1 = \n",
    "    \\begin{bmatrix}\n",
    "         1 \\\\ \n",
    "         1\n",
    "    \\end{bmatrix}\n",
    "    \\Bigg\\}\n",
    "    ,\n",
    "    \\Bigg\\{\n",
    "    p_2 =\n",
    "    \\begin{bmatrix}\n",
    "         1 \\\\ \n",
    "         2\n",
    "    \\end{bmatrix},\n",
    "    t_2 = \n",
    "    \\begin{bmatrix}\n",
    "         0 \\\\ \n",
    "         0\n",
    "    \\end{bmatrix}\n",
    "    \\Bigg\\}\n",
    "\\end{equation}\n",
    "\n",
    "\\begin{equation}\n",
    "    \\Bigg\\{\n",
    "    p_3 =\n",
    "    \\begin{bmatrix}\n",
    "         2 \\\\ \n",
    "         -1\n",
    "    \\end{bmatrix},\n",
    "    t_3 = \n",
    "    \\begin{bmatrix}\n",
    "         0 \\\\ \n",
    "         1\n",
    "    \\end{bmatrix}\n",
    "    \\Bigg\\}\n",
    "    ,\n",
    "    \\Bigg\\{\n",
    "    p_4 =\n",
    "    \\begin{bmatrix}\n",
    "         2 \\\\ \n",
    "         0\n",
    "    \\end{bmatrix},\n",
    "    t_4 = \n",
    "    \\begin{bmatrix}\n",
    "         0 \\\\ \n",
    "         1\n",
    "    \\end{bmatrix}\n",
    "    \\Bigg\\}\n",
    "\\end{equation}\n",
    "\n",
    "\\begin{equation}\n",
    "    \\Bigg\\{\n",
    "    p_5 =\n",
    "    \\begin{bmatrix}\n",
    "         -1 \\\\ \n",
    "         2\n",
    "    \\end{bmatrix},\n",
    "    t_5 = \n",
    "    \\begin{bmatrix}\n",
    "         1 \\\\ \n",
    "         0\n",
    "    \\end{bmatrix}\n",
    "    \\Bigg\\}\n",
    "    ,\n",
    "    \\Bigg\\{\n",
    "    p_6 =\n",
    "    \\begin{bmatrix}\n",
    "         -2 \\\\ \n",
    "         1\n",
    "    \\end{bmatrix},\n",
    "    t_6 = \n",
    "    \\begin{bmatrix}\n",
    "         1 \\\\ \n",
    "         0\n",
    "    \\end{bmatrix}\n",
    "    \\Bigg\\}\n",
    "\\end{equation}\n",
    "\n",
    "\\begin{equation}\n",
    "    \\Bigg\\{\n",
    "    p_7 =\n",
    "    \\begin{bmatrix}\n",
    "         -1 \\\\ \n",
    "         -1\n",
    "    \\end{bmatrix},\n",
    "    t_7 = \n",
    "    \\begin{bmatrix}\n",
    "         1 \\\\ \n",
    "         1\n",
    "    \\end{bmatrix}\n",
    "    \\Bigg\\}\n",
    "    ,\n",
    "    \\Bigg\\{\n",
    "    p_8 =\n",
    "    \\begin{bmatrix}\n",
    "         -2 \\\\ \n",
    "         -2\n",
    "    \\end{bmatrix},\n",
    "    t_8 = \n",
    "    \\begin{bmatrix}\n",
    "         1 \\\\ \n",
    "         1\n",
    "    \\end{bmatrix}\n",
    "    \\Bigg\\}\n",
    "\\end{equation}"
   ]
  },
  {
   "cell_type": "markdown",
   "metadata": {},
   "source": [
    "And beginning the algorithm with the following inital weights and biases:"
   ]
  },
  {
   "cell_type": "markdown",
   "metadata": {},
   "source": [
    "\\begin{equation}\n",
    "    \\textbf{W}(0) = \n",
    "    \\begin{bmatrix}\n",
    "        1 & 0 \\\\\n",
    "        0 & 1\n",
    "    \\end{bmatrix},\n",
    "    \\textbf{b}(0) =\n",
    "    \\begin{bmatrix}\n",
    "        1 \\\\\n",
    "        1\n",
    "    \\end{bmatrix}\n",
    "\\end{equation}"
   ]
  },
  {
   "cell_type": "markdown",
   "metadata": {},
   "source": [
    "Train the perceptron network to classify the input vectors into four classes."
   ]
  },
  {
   "cell_type": "markdown",
   "metadata": {},
   "source": [
    "## Preparing the data"
   ]
  },
  {
   "cell_type": "markdown",
   "metadata": {},
   "source": [
    "Import libraries and declare the input vectors, weights and biases."
   ]
  },
  {
   "cell_type": "code",
   "execution_count": 2,
   "metadata": {},
   "outputs": [],
   "source": [
    "import numpy as np\n",
    "import matplotlib.pyplot as plt\n",
    "\n",
    "#Input vector\n",
    "p = np.array([\n",
    "    [1,1],\n",
    "    [1,2],\n",
    "    [2,-1],\n",
    "    [2,0],\n",
    "    [-1,2],\n",
    "    [-2,1],\n",
    "    [-1,-1],\n",
    "    [-2,-2]\n",
    "])\n",
    "\n",
    "#Input correct result vector\n",
    "t = np.array([\n",
    "    [0,0],\n",
    "    [0,0],\n",
    "    [0,1],\n",
    "    [0,1],\n",
    "    [1,0],\n",
    "    [1,0],\n",
    "    [1,1],\n",
    "    [1,1]    \n",
    "])\n",
    "\n",
    "#weights vector\n",
    "w = np.array([\n",
    "    [1,0],\n",
    "    [0,1]\n",
    "])\n",
    "\n",
    "#biases vector\n",
    "b = np.array([1,1])\n"
   ]
  },
  {
   "cell_type": "markdown",
   "metadata": {},
   "source": [
    "Define the activation function."
   ]
  },
  {
   "cell_type": "code",
   "execution_count": 3,
   "metadata": {},
   "outputs": [],
   "source": [
    "def hardlim(x): #Activation function\n",
    "    res = []\n",
    "    for i in x:\n",
    "        if i < 0:\n",
    "            res.append(0)\n",
    "        if i >= 0:\n",
    "            res.append(1)\n",
    "    return np.array(res)"
   ]
  },
  {
   "cell_type": "markdown",
   "metadata": {},
   "source": [
    "## Training the network"
   ]
  },
  {
   "cell_type": "code",
   "execution_count": 4,
   "metadata": {},
   "outputs": [
    {
     "name": "stdout",
     "output_type": "stream",
     "text": [
      "Initial weights:\n",
      " [[1 0]\n",
      " [0 1]] \n",
      "bias [1 1]\n",
      "Final weights:\n",
      " [[-2  0]\n",
      " [ 0 -2]] \n",
      "bias [-1  0]\n"
     ]
    }
   ],
   "source": [
    "it = 2\n",
    "print(\"Initial weights:\\n\",w, \"\\nbias\",b)\n",
    "for i in range(it):\n",
    "    for j in range(len(p)):\n",
    "        a = hardlim(np.dot(w,p[j]) + b)\n",
    "        if not np.all(a == t[j]):\n",
    "            e = t[j] - a\n",
    "            w = w + np.reshape(e,(2,1))*p[j] \n",
    "            b = b + e\n",
    "print(\"Final weights:\\n\",w, \"\\nbias\",b)"
   ]
  },
  {
   "cell_type": "markdown",
   "metadata": {},
   "source": [
    "## Visualizing the result"
   ]
  },
  {
   "cell_type": "markdown",
   "metadata": {},
   "source": [
    "Extract the data for the line plotting."
   ]
  },
  {
   "cell_type": "code",
   "execution_count": 6,
   "metadata": {},
   "outputs": [],
   "source": [
    "#Decision boundary lines\n",
    "y1 = np.array([i for i in range(-5,5,1)])\n",
    "x1 =  np.array([-b[0]/w[0,0] for i in range(len(y1))])\n",
    "\n",
    "x2 = np.array([i for i in range(-5,5,1)])\n",
    "y2 = np.array([0 for i in range(len(x2))]) "
   ]
  },
  {
   "cell_type": "markdown",
   "metadata": {},
   "source": [
    "Plotting"
   ]
  },
  {
   "cell_type": "code",
   "execution_count": 7,
   "metadata": {},
   "outputs": [
    {
     "data": {
      "image/png": "[encoded data removed]",
      "text/plain": [
       "<Figure size 432x288 with 1 Axes>"
      ]
     },
     "metadata": {},
     "output_type": "display_data"
    }
   ],
   "source": [
    "#Plotting\n",
    "plt.scatter(p[:2,0],p[:2,1], color=\"white\", edgecolors=\"black\")\n",
    "plt.scatter(p[2:4,0],p[2:4,1], color=\"white\", edgecolors=\"black\", marker=\"s\")\n",
    "plt.scatter(p[4:6,0],p[4:6,1], color=\"black\")\n",
    "plt.scatter(p[6:8,0],p[6:8,1], color=\"black\", marker=\"s\")\n",
    "plt.axis([-2.5,2.5,-2.5,2.5])\n",
    "plt.plot(x1,y1)\n",
    "plt.plot(x2,y2)\n",
    "plt.show()"
   ]
  },
  {
   "cell_type": "markdown",
   "metadata": {},
   "source": [
    "Decision boundary lines separates correctly each class."
   ]
  }
 ],
 "metadata": {
  "kernelspec": {
   "display_name": "Python 3",
   "language": "python",
   "name": "python3"
  },
  "language_info": {
   "codemirror_mode": {
    "name": "ipython",
    "version": 3
   },
   "file_extension": ".py",
   "mimetype": "text/x-python",
   "name": "python",
   "nbconvert_exporter": "python",
   "pygments_lexer": "ipython3",
   "version": "3.6.9"
  }
 },
 "nbformat": 4,
 "nbformat_minor": 2
}
