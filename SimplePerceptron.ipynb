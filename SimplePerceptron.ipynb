{
 "cells": [
  {
   "cell_type": "markdown",
   "metadata": {},
   "source": [
    "# Simple perceptron \n",
    "## Python 3 implementation"
   ]
  },
  {
   "cell_type": "markdown",
   "metadata": {},
   "source": [
    "This is a python sequential implementation of a linear classifier using a single neuron neural network. <br>\n",
    "This code is based on the theory exposed in the 2nd edition of the book Neural Network Design written by Martin Hagan."
   ]
  },
  {
   "cell_type": "markdown",
   "metadata": {},
   "source": [
    "This perceptron receives two inputs corresponding to points in space $x$ and $y$.<br>\n",
    "The job of this perceptron is to calculate the weights of the inputs for which all the points are correctly classified in two regions.This is when $x > y$.<br>\n",
    "The interval in which data points can be generated is $[0,1]$.<br>\n",
    "The next block of the code generates the data points for training and initializes the weights of the inputs:"
   ]
  },
  {
   "cell_type": "code",
   "execution_count": 208,
   "metadata": {},
   "outputs": [],
   "source": [
    "import numpy as np\n",
    "import matplotlib.pyplot as plt\n",
    "\n",
    "#Generating training data\n",
    "n = 50 #number of data points\n",
    "x = np.random.rand(n) \n",
    "y = np.random.rand(n)\n",
    "data = [[x[i],y[i],int(x[i] > y[i])] for i in range(n)] #[x,y,output]\n",
    "W = [np.random.rand(),np.random.rand()]"
   ]
  },
  {
   "cell_type": "markdown",
   "metadata": {},
   "source": [
    "The boundary lineas appears when:\n",
    "\\begin{equation}\n",
    "    W_1x + W_2y = 0,\n",
    "\\end{equation}\n",
    "\n",
    "clearing $y$ from the equation:\n",
    "\\begin{equation}\n",
    "    y = \\frac{-W_1x}{W_2}\n",
    "\\end{equation}"
   ]
  },
  {
   "cell_type": "code",
   "execution_count": 209,
   "metadata": {},
   "outputs": [
    {
     "data": {
      "image/png": "[encoded data removed]",
      "text/plain": [
       "<Figure size 432x288 with 1 Axes>"
      ]
     },
     "metadata": {
      "needs_background": "light"
     },
     "output_type": "display_data"
    },
    {
     "name": "stdout",
     "output_type": "stream",
     "text": [
      "Initial weights: [0.9524622870282158, 0.0531239140193267]\n"
     ]
    }
   ],
   "source": [
    "x1 = np.asarray([-2,2])\n",
    "y1 = (-W[0] * x1)/W[1]\n",
    "plt.scatter(x,y)\n",
    "plt.plot(x1,y1)\n",
    "plt.axis([0,1,0,1])\n",
    "plt.show()\n",
    "print(\"Initial weights:\",W)"
   ]
  },
  {
   "cell_type": "markdown",
   "metadata": {},
   "source": [
    "A step function is used as the activation function of the neuron:"
   ]
  },
  {
   "cell_type": "code",
   "execution_count": 210,
   "metadata": {},
   "outputs": [],
   "source": [
    "#step function\n",
    "def activation_function(x):\n",
    "    if x >= 0:\n",
    "        return 1\n",
    "    else:\n",
    "        return 0"
   ]
  },
  {
   "cell_type": "markdown",
   "metadata": {},
   "source": [
    "In the training process, the weights of the inputs are updated if the neural network gets the wrong expected output.\\\n",
    "The next generalization is used for updating the weights: <br>\n",
    "$$W_{new} = W_{old} + ne_iP_i$$\n",
    "Where $W_{new}$ is the new weights vector.<br>\n",
    "$W_{old}$ is the old weights vector.<br>\n",
    "$n$ being the learning rate to moderate the changes in the weights.\n",
    "$e_i$ is the error in the output calculated by $(expected - estimated)$.<br>\n",
    "$P_i$ is the vector of data points."
   ]
  },
  {
   "cell_type": "code",
   "execution_count": 211,
   "metadata": {},
   "outputs": [],
   "source": [
    "#Training\n",
    "lr = 0.1 #learning rate\n",
    "t = 150 #Number of iterations\n",
    "#Weights of inputs without bias, boundary line passes through the origin\n",
    "for i in range(t):\n",
    "    for j in range(n):\n",
    "        sum_ = (data[j][0] * W[0]) + (data[j][1] * W[1])\n",
    "        estimated = activation_function(sum_)\n",
    "        expected = data[j][2]\n",
    "        if estimated != expected:\n",
    "            error = expected - estimated\n",
    "            W[0] = W[0] + (lr * data[j][0] * error)\n",
    "            W[1] = W[1] + (lr * data[j][1] * error)"
   ]
  },
  {
   "cell_type": "markdown",
   "metadata": {},
   "source": [
    "Ones the perceptron is trained, the boundary line and final weights are checked."
   ]
  },
  {
   "cell_type": "code",
   "execution_count": 212,
   "metadata": {},
   "outputs": [
    {
     "data": {
      "image/png": "[encoded data removed]",
      "text/plain": [
       "<Figure size 432x288 with 1 Axes>"
      ]
     },
     "metadata": {
      "needs_background": "light"
     },
     "output_type": "display_data"
    },
    {
     "name": "stdout",
     "output_type": "stream",
     "text": [
      "Final weights: [0.538379885582265, -0.5822902430125847]\n"
     ]
    }
   ],
   "source": [
    "x1 = np.asarray([-2,2])\n",
    "y1 = (-W[0] * x1)/W[1]\n",
    "plt.scatter(x,y)\n",
    "plt.plot(x1,y1)\n",
    "plt.axis([0,1,0,1])\n",
    "plt.show()\n",
    "print(\"Final weights:\",W)"
   ]
  },
  {
   "cell_type": "markdown",
   "metadata": {},
   "source": [
    "And the perceptron is tested with new unkown values"
   ]
  },
  {
   "cell_type": "code",
   "execution_count": 213,
   "metadata": {
    "scrolled": false
   },
   "outputs": [
    {
     "name": "stdout",
     "output_type": "stream",
     "text": [
      "Success rate: 1.0\n"
     ]
    }
   ],
   "source": [
    "#Testing\n",
    "x_test = np.random.rand(n)\n",
    "y_test = np.random.rand(n)\n",
    "data_test = [[x_test[i],y_test[i],int(x_test[i] > y_test[i])] for i in range(n)]\n",
    "success_rate = 0\n",
    "for i in range(n):\n",
    "    expected = data_test[i][2]\n",
    "    sum_test = (data_test[i][0] * W[0]) + (data_test[i][1] * W[1])\n",
    "    estimated = activation_function(sum_test)\n",
    "    if estimated == expected:\n",
    "        success_rate += 1\n",
    "success_rate = success_rate/n\n",
    "print(\"Success rate:\",success_rate)\n",
    "    "
   ]
  }
 ],
 "metadata": {
  "kernelspec": {
   "display_name": "Python 3",
   "language": "python",
   "name": "python3"
  },
  "language_info": {
   "codemirror_mode": {
    "name": "ipython",
    "version": 3
   },
   "file_extension": ".py",
   "mimetype": "text/x-python",
   "name": "python",
   "nbconvert_exporter": "python",
   "pygments_lexer": "ipython3",
   "version": "3.7.4"
  }
 },
 "nbformat": 4,
 "nbformat_minor": 2
}
